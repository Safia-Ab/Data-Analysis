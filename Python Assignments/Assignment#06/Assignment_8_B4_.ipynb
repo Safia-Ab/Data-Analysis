{
  "cells": [
    {
      "cell_type": "markdown",
      "id": "94b44a26-a3e1-40b6-a2f8-5288da630659",
      "metadata": {
        "id": "94b44a26-a3e1-40b6-a2f8-5288da630659"
      },
      "source": [
        "Q1. Write a Python function called add_numbers that takes two numbers as arguments and returns their sum. Then, test the function by calling it with two numbers of your choice.\n"
      ]
    },
    {
      "cell_type": "code",
      "source": [
        "def add_numbers(a, b):\n",
        "    return a + b\n",
        "\n",
        "print(add_numbers(5, 7))"
      ],
      "metadata": {
        "id": "RRFO0V4vUT9T",
        "outputId": "8ed9ce9a-ccef-43ed-c071-3cced8c89f5b",
        "colab": {
          "base_uri": "https://localhost:8080/"
        }
      },
      "id": "RRFO0V4vUT9T",
      "execution_count": 1,
      "outputs": [
        {
          "output_type": "stream",
          "name": "stdout",
          "text": [
            "12\n"
          ]
        }
      ]
    },
    {
      "cell_type": "markdown",
      "id": "2df82858-cc42-45be-b4d8-a6d24073bb06",
      "metadata": {
        "id": "2df82858-cc42-45be-b4d8-a6d24073bb06"
      },
      "source": [
        "Q2. Write a Python function count_vowels that accepts a string and returns the number of vowels a, e, i, o, u, A, E, I, O, U in that string.\n",
        "\n",
        "- Example: 'Welcome'\n",
        "- Output: 3 vowels"
      ]
    },
    {
      "cell_type": "code",
      "source": [
        "def count_vowels(s):\n",
        "    vowels = \"aeiouAEIOU\"\n",
        "    return sum(1 for ch in s if ch in vowels)\n",
        "\n",
        "print(count_vowels(\"HOME\"))"
      ],
      "metadata": {
        "id": "CIUto6AsUawY",
        "outputId": "f9767472-aac2-4b92-aa7d-be099d8f5f1f",
        "colab": {
          "base_uri": "https://localhost:8080/"
        }
      },
      "id": "CIUto6AsUawY",
      "execution_count": 3,
      "outputs": [
        {
          "output_type": "stream",
          "name": "stdout",
          "text": [
            "2\n"
          ]
        }
      ]
    },
    {
      "cell_type": "markdown",
      "id": "14ada7c2-26ff-467b-9856-2bae9d7b673f",
      "metadata": {
        "id": "14ada7c2-26ff-467b-9856-2bae9d7b673f"
      },
      "source": [
        "Q3. Create a Python function called currency_converter() that takes two arguments:\n",
        "\n",
        "- amount: The amount of money to be converted (in USD).\n",
        "- exchange_rate (default is 280): The conversion rate from USD to another currency (e.g., PKR). You can assume the default rate is 1 USD = 280 PKR.\n",
        "-\n",
        "The function should return a message showing how much the given amount is worth in the target currency (PKR).\n",
        "\n",
        "Expected Output:\n",
        "\n",
        "'100 USD is equivalent to 28000 PKR'"
      ]
    },
    {
      "cell_type": "code",
      "source": [
        "def currency_converter(amount, exchange_rate=280):\n",
        "    return f\"{amount} USD is equivalent to {amount * exchange_rate} PKR\"\n",
        "\n",
        "print(currency_converter(10))"
      ],
      "metadata": {
        "id": "vV-LOG76VClv",
        "outputId": "37548860-ce6b-48dd-8141-98ebb9f0cd20",
        "colab": {
          "base_uri": "https://localhost:8080/"
        }
      },
      "id": "vV-LOG76VClv",
      "execution_count": 5,
      "outputs": [
        {
          "output_type": "stream",
          "name": "stdout",
          "text": [
            "10 USD is equivalent to 2800 PKR\n"
          ]
        }
      ]
    },
    {
      "cell_type": "markdown",
      "id": "2be859c9-23bb-4cff-abee-092295757847",
      "metadata": {
        "id": "2be859c9-23bb-4cff-abee-092295757847"
      },
      "source": [
        "Q4. Write a Python function display_student_info that accepts the following details about a student:\n",
        "\n",
        "- name (Keyword argument): The name of the student.\n",
        "- age (Keyword argument): The age of the student.\n",
        "- grade (Keyword argument): The grade the student is in.\n",
        "- school (Keyword argument): The name of the school the student attends.\n",
        "\n",
        "Expected Output:\n",
        "\n",
        "- Name: John Doe\n",
        "- Age: 15\n",
        "- Grade: 10th\n",
        "- School: Greenwood High"
      ]
    },
    {
      "cell_type": "code",
      "source": [
        "def display_student_info(*, name, age, grade, college):\n",
        "    print(f\"Name: {name}\")\n",
        "    print(f\"Age: {age}\")\n",
        "    print(f\"Grade: {grade}\")\n",
        "    print(f\"College: {college}\")\n",
        "\n",
        "display_student_info(name=\"Safia AB\", age=20, grade=\"12\", college=\"Jawan Pakistan\")\n"
      ],
      "metadata": {
        "id": "AwECgr_LVVws",
        "outputId": "141e1414-8b93-445a-813d-9e2e5bbd510f",
        "colab": {
          "base_uri": "https://localhost:8080/"
        }
      },
      "id": "AwECgr_LVVws",
      "execution_count": 9,
      "outputs": [
        {
          "output_type": "stream",
          "name": "stdout",
          "text": [
            "Name: Safia AB\n",
            "Age: 20\n",
            "Grade: 12\n",
            "College: Jawan Pakistan\n"
          ]
        }
      ]
    },
    {
      "cell_type": "markdown",
      "id": "6fa029c5-095c-463f-b29d-ff8469cbdfea",
      "metadata": {
        "id": "6fa029c5-095c-463f-b29d-ff8469cbdfea"
      },
      "source": [
        "Q5. Write a Python function calculate_price that accepts two positional arguments:\n",
        "\n",
        "- price: The price of a single item.\n",
        "- quantity: The number of items bought.\n",
        "- The function should return the total price by multiplying price and quantity.\n"
      ]
    },
    {
      "cell_type": "code",
      "source": [
        "def calculate_price(price, quantity):\n",
        "    return price * quantity\n",
        "\n",
        "print(calculate_price(200, 3))"
      ],
      "metadata": {
        "id": "jyHloDX5WA1n",
        "outputId": "248449c9-2c99-4347-b7b6-17d95d3623e2",
        "colab": {
          "base_uri": "https://localhost:8080/"
        }
      },
      "id": "jyHloDX5WA1n",
      "execution_count": 10,
      "outputs": [
        {
          "output_type": "stream",
          "name": "stdout",
          "text": [
            "600\n"
          ]
        }
      ]
    },
    {
      "cell_type": "markdown",
      "id": "b0952c84-56d3-478a-8772-ba5434fc4f2f",
      "metadata": {
        "id": "b0952c84-56d3-478a-8772-ba5434fc4f2f"
      },
      "source": [
        "Q6. Write a Python function display_prices that takes a product name and an arbitrary number of keyword arguments representing product prices. The function should display each product and its price.\n",
        "\n",
        "Expected Output:\n",
        "\n",
        "Product: Laptop\n",
        "\n",
        "Amazon: $800\n",
        "\n",
        "eBay: $750\n",
        "\n",
        "Walmart: $780"
      ]
    },
    {
      "cell_type": "code",
      "source": [
        "def display_prices(product, **prices):\n",
        "    print(f\"Product: {product}\")\n",
        "    for store, price in prices.items():\n",
        "        print(f\"{store}: ${price}\")\n",
        "\n",
        "display_prices(\"Laptop\", Amazon=800, eBay=750, Walmart=780)"
      ],
      "metadata": {
        "id": "Hmc9fiQNWati",
        "outputId": "24e74131-3d26-4853-9134-665e9d451891",
        "colab": {
          "base_uri": "https://localhost:8080/"
        }
      },
      "id": "Hmc9fiQNWati",
      "execution_count": 11,
      "outputs": [
        {
          "output_type": "stream",
          "name": "stdout",
          "text": [
            "Product: Laptop\n",
            "Amazon: $800\n",
            "eBay: $750\n",
            "Walmart: $780\n"
          ]
        }
      ]
    },
    {
      "cell_type": "markdown",
      "id": "18d9013b-c0e4-4e14-82e7-6c0d03917322",
      "metadata": {
        "id": "18d9013b-c0e4-4e14-82e7-6c0d03917322"
      },
      "source": [
        "Q7. Write a Python function find_max that takes arbitrary number of positional arguments and returns the maximum number."
      ]
    },
    {
      "cell_type": "code",
      "source": [
        "def find_max(*numbers):\n",
        "    return max(numbers)\n",
        "\n",
        "print(find_max(4, 7, 1, 9, 2))"
      ],
      "metadata": {
        "id": "FlQ7tJVNWo-3",
        "outputId": "dd113f68-b4f8-4ba4-e8e7-1e9d30ec3f8d",
        "colab": {
          "base_uri": "https://localhost:8080/"
        }
      },
      "id": "FlQ7tJVNWo-3",
      "execution_count": 12,
      "outputs": [
        {
          "output_type": "stream",
          "name": "stdout",
          "text": [
            "9\n"
          ]
        }
      ]
    },
    {
      "cell_type": "markdown",
      "id": "5d99ddf7-24ba-4bc6-87fe-7ccabcdebeb4",
      "metadata": {
        "id": "5d99ddf7-24ba-4bc6-87fe-7ccabcdebeb4"
      },
      "source": [
        "Q8.\n",
        "\n",
        "Write a Python function calculate_rectangle that accepts the length and width of a rectangle as arguments. Inside this function, create two nested functions:\n",
        "\n",
        "- calculate_area: This function should calculate the area of the rectangle.\n",
        "- calculate_perimeter: This function should calculate the perimeter of the rectangle.\n",
        "- The main function should return both the area and the perimeter of the rectangle.\n",
        "\n",
        "Expected Output:\n",
        "\n",
        "Area: 15\n",
        "\n",
        "Perimeter: 16\n"
      ]
    },
    {
      "cell_type": "code",
      "source": [
        "def calculate_rectangle(length, width):\n",
        "    def calculate_area():\n",
        "        return length * width\n",
        "\n",
        "    def calculate_perimeter():\n",
        "        return 2 * (length + width)\n",
        "\n",
        "    return calculate_area(), calculate_perimeter()\n",
        "\n",
        "area, perimeter = calculate_rectangle(5, 3)\n",
        "print(\"Area:\", area)\n",
        "print(\"Perimeter:\", perimeter)"
      ],
      "metadata": {
        "id": "iCA3vqK_Xc6s",
        "outputId": "f65de862-1cb4-45ad-ca23-ebc99dd95d74",
        "colab": {
          "base_uri": "https://localhost:8080/"
        }
      },
      "id": "iCA3vqK_Xc6s",
      "execution_count": 13,
      "outputs": [
        {
          "output_type": "stream",
          "name": "stdout",
          "text": [
            "Area: 15\n",
            "Perimeter: 16\n"
          ]
        }
      ]
    },
    {
      "cell_type": "markdown",
      "id": "a668489b-a207-48a6-904e-fb7c2859e04d",
      "metadata": {
        "id": "a668489b-a207-48a6-904e-fb7c2859e04d"
      },
      "source": [
        "Q9. Write a Python function taxi_fare(distance, rate=100) that calculates the taxi fare.\n",
        "The default rate is 100 PKR per km, but the user can also enter a custom rate.\n",
        "\n",
        "FORMULA: distance * rate\n",
        "\n",
        "Expected Output:\n",
        "\n",
        "- Taxi fare for 10 km = 1000 PKR (using default parameter)\n",
        "- Taxi fare for 15 km = 1800 PKR (custom rate)"
      ]
    },
    {
      "cell_type": "code",
      "source": [
        "def taxi_fare(distance, rate=100):\n",
        "    return distance * rate\n",
        "\n",
        "print(\"Taxi fare for 10 km =\", taxi_fare(10), \"PKR\")\n",
        "print(\"Taxi fare for 15 km =\", taxi_fare(15, 120), \"PKR\")\n"
      ],
      "metadata": {
        "id": "KUgeOV_TXfdk",
        "outputId": "7a7ecc20-f13e-48a3-d2ec-9daa13a8fd24",
        "colab": {
          "base_uri": "https://localhost:8080/"
        }
      },
      "id": "KUgeOV_TXfdk",
      "execution_count": 14,
      "outputs": [
        {
          "output_type": "stream",
          "name": "stdout",
          "text": [
            "Taxi fare for 10 km = 1000 PKR\n",
            "Taxi fare for 15 km = 1800 PKR\n"
          ]
        }
      ]
    },
    {
      "cell_type": "markdown",
      "id": "ed779581-c1bc-45a5-8971-687391e077a2",
      "metadata": {
        "id": "ed779581-c1bc-45a5-8971-687391e077a2"
      },
      "source": [
        "Q10.\n",
        "\n",
        "Write a Python function shopping_bill(price, quantity, discount=0) that uses nested functions:\n",
        "\n",
        "- An inner function calculate_total() → multiplies price * quantity.\n",
        "- An inner function apply_discount(total) → subtracts discount from total (but never below 0).\n",
        "\n",
        "The outer function should return the final bill amount.\n",
        "\n",
        "Expected Output:\n",
        "\n",
        "- Final Bill = 600 PKR (no discount)\n",
        "- Final Bill = 500 PKR (with discount)"
      ]
    },
    {
      "cell_type": "code",
      "execution_count": 15,
      "id": "ee0ac957-86e2-49bc-adc3-861ac984d055",
      "metadata": {
        "id": "ee0ac957-86e2-49bc-adc3-861ac984d055",
        "outputId": "45bbfb33-dfce-493a-dfa3-a0952b5da4ae",
        "colab": {
          "base_uri": "https://localhost:8080/"
        }
      },
      "outputs": [
        {
          "output_type": "stream",
          "name": "stdout",
          "text": [
            "Final Bill = 600 PKR\n",
            "Final Bill = 500 PKR\n"
          ]
        }
      ],
      "source": [
        "def shopping_bill(price, quantity, discount=0):\n",
        "    def calculate_total():\n",
        "        return price * quantity\n",
        "\n",
        "    def apply_discount(total):\n",
        "        return max(total - discount, 0)\n",
        "\n",
        "    return apply_discount(calculate_total())\n",
        "\n",
        "print(\"Final Bill =\", shopping_bill(200, 3), \"PKR\")\n",
        "print(\"Final Bill =\", shopping_bill(200, 3, 100), \"PKR\")"
      ]
    }
  ],
  "metadata": {
    "kernelspec": {
      "display_name": "Python 3 (ipykernel)",
      "language": "python",
      "name": "python3"
    },
    "language_info": {
      "codemirror_mode": {
        "name": "ipython",
        "version": 3
      },
      "file_extension": ".py",
      "mimetype": "text/x-python",
      "name": "python",
      "nbconvert_exporter": "python",
      "pygments_lexer": "ipython3",
      "version": "3.12.7"
    },
    "colab": {
      "provenance": []
    }
  },
  "nbformat": 4,
  "nbformat_minor": 5
}