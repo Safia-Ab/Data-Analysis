{
  "cells": [
    {
      "cell_type": "markdown",
      "id": "2bf6c77b-bc8e-45a8-a853-401f0356badf",
      "metadata": {
        "id": "2bf6c77b-bc8e-45a8-a853-401f0356badf"
      },
      "source": [
        "Q1:\n",
        "Write a Python program that:\n",
        "\n",
        "Has a balance of 1000.\n",
        "\n",
        "Asks the user for a withdrawal amount.\n",
        "\n",
        "Checks for these errors:\n",
        "\n",
        "Non-numeric input → print \"Please enter a valid number.\"\n",
        "\n",
        "Amount ≤ 0 → print \"Amount must be more than zero.\"\n",
        "\n",
        "Amount > balance → print \"Insufficient balance.\"\n",
        "\n",
        "If valid, deducts amount and shows remaining balance.\n",
        "\n",
        "Always prints \"Thank you for using the ATM.\"\n",
        "\n",
        "Expected Output:\n",
        "\n",
        "- Enter amount to withdraw: 1500\n",
        "\n",
        "  Insufficient balance.\n",
        "\n",
        "  Thank you for using the ATM.\n",
        "\n",
        "\n",
        "- Enter amount to withdraw:  0\n",
        "\n",
        "  Amount must be more than zero.\n",
        "\n",
        "  Thank you for using the ATM.\n",
        "\n",
        "\n",
        "- Enter amount to withdraw:  K\n",
        "\n",
        "\n",
        "  Please enter a valid number.\n",
        "\n",
        "  Thank you for using the ATM."
      ]
    },
    {
      "cell_type": "code",
      "source": [
        "balance = 1000\n",
        "try:\n",
        "    amount = int(input(\"Enter amount to withdraw: \"))\n",
        "    if amount <= 0:\n",
        "        print(\"Amount must be more than zero.\")\n",
        "    elif amount > balance:\n",
        "        print(\"Insufficient balance.\")\n",
        "    else:\n",
        "        balance -= amount\n",
        "        print(f\"Remaining balance: {balance}\")\n",
        "except ValueError:\n",
        "    print(\"Please enter a valid number.\")\n",
        "finally:\n",
        "    print(\"Thank you for using the ATM.\")\n"
      ],
      "metadata": {
        "id": "Wyr6H7mB_TTW",
        "outputId": "3604d70c-d8fc-41ed-e54e-61be83952b04",
        "colab": {
          "base_uri": "https://localhost:8080/"
        }
      },
      "id": "Wyr6H7mB_TTW",
      "execution_count": 1,
      "outputs": [
        {
          "output_type": "stream",
          "name": "stdout",
          "text": [
            "Enter amount to withdraw: 500\n",
            "Remaining balance: 500\n",
            "Thank you for using the ATM.\n"
          ]
        }
      ]
    },
    {
      "cell_type": "markdown",
      "id": "e7ca4d3f-3f2f-4b01-bc4c-28919084207c",
      "metadata": {
        "id": "e7ca4d3f-3f2f-4b01-bc4c-28919084207c"
      },
      "source": [
        "Q2\n",
        "\n",
        "Write a Python program that:\n",
        "\n",
        "Has 5 seats available (available_seats = 5).\n",
        "\n",
        "Asks the user how many tickets they want to book.\n",
        "\n",
        "Checks for these cases:\n",
        "\n",
        "Non-numeric input → print \"Please enter a valid number.\"\n",
        "\n",
        "Tickets ≤ 0 → print \"You must book at least 1 ticket.\"\n",
        "\n",
        "Tickets more than available seats → print \"Not enough seats available.\"\n",
        "\n",
        "If valid, confirms the booking by printing how many tickets were booked.\n",
        "\n",
        "Always prints \"Thank you for booking with us.\" at the end.\n",
        "\n",
        "Expected Output:\n",
        "\n",
        "- How many tickets do you want to book? 3\n",
        "\n",
        "  3 ticket(s) booked successfully.\n",
        "\n",
        "  Thank you for booking with us.\n",
        "\n",
        "- How many tickets do you want to book? 0\n",
        "\n",
        "\n",
        "  You must book at least 1 ticket.\n",
        "\n",
        "  Thank you for booking with us.\n",
        "\n",
        "- How many tickets do you want to book? 7\n",
        "\n",
        "  Not enough seats available.\n",
        "\n",
        "  Thank you for booking with us.\n",
        "\n",
        "- How many tickets do you want to book? five\n",
        "\n",
        "  Please enter a valid number.\n",
        "\n",
        "  Thank you for booking with us.\n",
        "\n",
        "\n",
        "\n"
      ]
    },
    {
      "cell_type": "code",
      "source": [
        "available_seats = 5\n",
        "try:\n",
        "    tickets = int(input(\"How many tickets do you want to book? \"))\n",
        "    if tickets <= 0:\n",
        "        print(\"You must book at least 1 ticket.\")\n",
        "    elif tickets > available_seats:\n",
        "        print(\"Not enough seats available.\")\n",
        "    else:\n",
        "        print(f\"{tickets} ticket(s) booked successfully.\")\n",
        "except ValueError:\n",
        "    print(\"Please enter a valid number.\")\n",
        "finally:\n",
        "    print(\"Thank you for booking with us.\")\n"
      ],
      "metadata": {
        "id": "I2SQvXOa_jEa",
        "outputId": "ebbfc680-5a67-4c60-9c62-1731ccf41cd2",
        "colab": {
          "base_uri": "https://localhost:8080/"
        }
      },
      "id": "I2SQvXOa_jEa",
      "execution_count": 2,
      "outputs": [
        {
          "output_type": "stream",
          "name": "stdout",
          "text": [
            "How many tickets do you want to book? 8\n",
            "Not enough seats available.\n",
            "Thank you for booking with us.\n"
          ]
        }
      ]
    },
    {
      "cell_type": "markdown",
      "id": "5dc01c7c-2a5b-4a18-bd8f-4b80f71b625b",
      "metadata": {
        "id": "5dc01c7c-2a5b-4a18-bd8f-4b80f71b625b"
      },
      "source": [
        "Q3:\n",
        "\n",
        "Write a Python program that:\n",
        "\n",
        "Asks the user how many items they want to buy.\n",
        "\n",
        "If the user enters a non-number, print: \"Please enter a valid quantity.\"\n",
        "\n",
        "If the user enters a number less than 1, print: \"You must buy at least one item.\"\n",
        "\n",
        "If the input is valid, print: \"You added {quantity} item(s) to your cart.\"\n",
        "\n",
        "Expected Output:\n",
        "\n",
        "- Enter the number of items you want to buy: 3\n",
        "\n",
        "  You added 3 item(s) to your cart.\n",
        "\n",
        "- Enter the number of items you want to buy: 0\n",
        "\n",
        "    You must buy at least one item.\n",
        "\n",
        "- Enter the number of items you want to buy: five\n",
        "\n",
        "  Please enter a valid quantity.\n",
        "\n"
      ]
    },
    {
      "cell_type": "code",
      "source": [
        "try:\n",
        "    quantity = int(input(\"Enter the number of items you want to buy: \"))\n",
        "    if quantity < 1:\n",
        "        print(\"You must buy at least one item.\")\n",
        "    else:\n",
        "        print(f\"You added {quantity} item(s) to your cart.\")\n",
        "except ValueError:\n",
        "    print(\"Please enter a valid quantity.\")\n"
      ],
      "metadata": {
        "id": "mR0PLgP6__1W",
        "outputId": "b483b0d3-ebf5-43e6-ea2b-4f0a07045e51",
        "colab": {
          "base_uri": "https://localhost:8080/"
        }
      },
      "id": "mR0PLgP6__1W",
      "execution_count": 3,
      "outputs": [
        {
          "output_type": "stream",
          "name": "stdout",
          "text": [
            "Enter the number of items you want to buy: 5\n",
            "You added 5 item(s) to your cart.\n"
          ]
        }
      ]
    },
    {
      "cell_type": "markdown",
      "id": "3ac27741-aec9-45ae-83c5-8648e53245cd",
      "metadata": {
        "id": "3ac27741-aec9-45ae-83c5-8648e53245cd"
      },
      "source": [
        "Q4:\n",
        "Write a Python program that:\n",
        "\n",
        "Asks the user to enter a number between 1 and 7.\n",
        "\n",
        "If the number is between 1 and 7, prints the corresponding day of the week (1 = Monday, 7 = Sunday).\n",
        "\n",
        "If the number is outside this range, prints: \"Please enter a number between 1 and 7.\"\n",
        "\n",
        "Handles invalid input (non-numbers) by printing: \"Please enter a valid number.\"\n",
        "\n",
        "Expected Output:\n",
        "\n",
        "- Enter a day number (1-7): 3\n",
        "\n",
        "  Day is Wednesday\n",
        "\n",
        "- Enter a day number (1-7): 9\n",
        "\n",
        "    Please enter a number between 1 and 7.\n",
        "\n",
        "- Enter a day number (1-7): five\n",
        "\n",
        "  Please enter a valid number.\n",
        "\n",
        "\n"
      ]
    },
    {
      "cell_type": "code",
      "source": [
        "# Q4: Days of the Week\n",
        "days = {\n",
        "    1: \"Monday\", 2: \"Tuesday\", 3: \"Wednesday\",\n",
        "    4: \"Thursday\", 5: \"Friday\", 6: \"Saturday\", 7: \"Sunday\"\n",
        "}\n",
        "try:\n",
        "    num = int(input(\"Enter a day number (1-7): \"))\n",
        "    if 1 <= num <= 7:\n",
        "        print(f\"Day is {days[num]}\")\n",
        "    else:\n",
        "        print(\"Please enter a number between 1 and 7.\")\n",
        "except ValueError:\n",
        "    print(\"Please enter a valid number.\")\n"
      ],
      "metadata": {
        "id": "BhEDNZVyAXuS",
        "outputId": "59531449-925f-4788-c6fb-01f8b79caecf",
        "colab": {
          "base_uri": "https://localhost:8080/"
        }
      },
      "id": "BhEDNZVyAXuS",
      "execution_count": 4,
      "outputs": [
        {
          "output_type": "stream",
          "name": "stdout",
          "text": [
            "Enter a day number (1-7): 5\n",
            "Day is Friday\n"
          ]
        }
      ]
    },
    {
      "cell_type": "markdown",
      "id": "ae60a0eb-b305-425f-b90e-808005f8cefb",
      "metadata": {
        "id": "ae60a0eb-b305-425f-b90e-808005f8cefb"
      },
      "source": [
        "Q5:\n",
        "\n",
        "Write a Python program that:\n",
        "\n",
        "Asks the user how many days late they are returning a book.\n",
        "\n",
        "Calculates a fine: $0.50 per day late.\n",
        "\n",
        "If the user enters a negative number, print: \"Days late cannot be negative.\"\n",
        "\n",
        "If the input is invalid (not a number), print: \"Please enter a valid number.\"\n",
        "\n",
        "Otherwise, print the total fine.\n",
        "\n",
        "Expected Output:\n",
        "\n",
        "- Enter the number of days late: 4\n",
        "\n",
        "  Total fine: $2.00\n",
        "\n",
        "- Enter the number of days late: 0\n",
        "\n",
        "  Total fine: $0.00\n",
        "\n",
        "- Enter the number of days late: -3\n",
        "\n",
        "    Days late cannot be negative.\n",
        "\n",
        "- Enter the number of days late: five\n",
        "\n",
        "\n",
        "  Please enter a valid number.\n",
        "\n",
        "\n",
        "\n"
      ]
    },
    {
      "cell_type": "code",
      "source": [
        "try:\n",
        "    days = int(input(\"Enter the number of days late: \"))\n",
        "    if days < 0:\n",
        "        print(\"Days late cannot be negative.\")\n",
        "    else:\n",
        "        fine = days * 0.5\n",
        "        print(f\"Total fine: ${fine:.2f}\")\n",
        "except ValueError:\n",
        "    print(\"Please enter a valid number.\")\n"
      ],
      "metadata": {
        "id": "TCpj2dNdBBhM",
        "outputId": "585c18f1-5458-43ba-fd97-ecbd363218dc",
        "colab": {
          "base_uri": "https://localhost:8080/"
        }
      },
      "id": "TCpj2dNdBBhM",
      "execution_count": 5,
      "outputs": [
        {
          "output_type": "stream",
          "name": "stdout",
          "text": [
            "Enter the number of days late: 3\n",
            "Total fine: $1.50\n"
          ]
        }
      ]
    },
    {
      "cell_type": "markdown",
      "id": "0c62f22a-9cd0-4092-81d7-f9a1dfd27478",
      "metadata": {
        "id": "0c62f22a-9cd0-4092-81d7-f9a1dfd27478"
      },
      "source": [
        "Q6:\n",
        "Define a class named Book that has the following attributes:\n",
        "\n",
        "title (string)\n",
        "\n",
        "author (string)\n",
        "\n",
        "year (integer)\n",
        "\n",
        "Write a constructor (__init__) that initializes these attributes when a Book object is created.\n",
        "\n",
        "Then, create an object of the Book class with sample data (e.g., title = \"To Kill a Mockingbird\", author = \"Harper Lee\", year = 1960).\n",
        "\n",
        "Finally, print the values of the object's attributes (title, author, and year\n",
        "\n",
        "Expected Output:\n",
        "\n",
        "To Kill a Mockingbird\n",
        "\n",
        "Harper Lee\n",
        "\n",
        "1960\n"
      ]
    },
    {
      "cell_type": "code",
      "source": [
        "class Book:\n",
        "    def __init__(self, title, author, year):\n",
        "        self.title = title\n",
        "        self.author = author\n",
        "        self.year = year\n",
        "\n",
        "book1 = Book(\"To Kill a Mockingbird\", \"Harper Lee\", 1960)\n",
        "print(book1.title)\n",
        "print(book1.author)\n",
        "print(book1.year)\n"
      ],
      "metadata": {
        "id": "9W4WA4KOBbNr",
        "outputId": "18166241-e019-4bca-e848-2eec60ca6548",
        "colab": {
          "base_uri": "https://localhost:8080/"
        }
      },
      "id": "9W4WA4KOBbNr",
      "execution_count": 6,
      "outputs": [
        {
          "output_type": "stream",
          "name": "stdout",
          "text": [
            "To Kill a Mockingbird\n",
            "Harper Lee\n",
            "1960\n"
          ]
        }
      ]
    },
    {
      "cell_type": "markdown",
      "id": "865ebbd2-6635-46b3-8dd5-67f3939287e6",
      "metadata": {
        "id": "865ebbd2-6635-46b3-8dd5-67f3939287e6"
      },
      "source": [
        "Q7:\n",
        "\n",
        "Define a class named Book with the following:\n",
        "\n",
        "A constructor (__init__) that initializes three attributes: title, author, and year.\n",
        "\n",
        "A method display_info() that prints the book details in the format:\n",
        "\n",
        "'{title}' by {author}, published in {year}.\n",
        "\n",
        "A method is_classic() that simply prints:\n",
        "\n",
        "\"This is a book.\"\n",
        "\n",
        "Create an object of the Book class using this data:\n",
        "\n",
        "Title: \"To Kill a Mockingbird\"\n",
        "\n",
        "Author: \"Harper Lee\"\n",
        "\n",
        "Year: 1960\n",
        "\n",
        "Call both methods on the object.\n",
        "\n",
        "Expected Output:\n",
        "\n",
        "'To Kill a Mockingbird' by Harper Lee, published in 1960.\n",
        "\n",
        "This is a book.\n",
        "\n"
      ]
    },
    {
      "cell_type": "code",
      "source": [
        "class Book:\n",
        "    def __init__(self, title, author, year):\n",
        "        self.title = title\n",
        "        self.author = author\n",
        "        self.year = year\n",
        "\n",
        "    def display_info(self):\n",
        "        print(f\"'{self.title}' by {self.author}, published in {self.year}.\")\n",
        "\n",
        "    def is_classic(self):\n",
        "        print(\"This is a book.\")\n",
        "\n",
        "book2 = Book(\"To Kill a Mockingbird\", \"Harper Lee\", 1960)\n",
        "book2.display_info()\n",
        "book2.is_classic()\n"
      ],
      "metadata": {
        "id": "b8Ra_bANBhOR",
        "outputId": "69461171-70fa-4f26-8a58-e835cd89117c",
        "colab": {
          "base_uri": "https://localhost:8080/"
        }
      },
      "id": "b8Ra_bANBhOR",
      "execution_count": 7,
      "outputs": [
        {
          "output_type": "stream",
          "name": "stdout",
          "text": [
            "'To Kill a Mockingbird' by Harper Lee, published in 1960.\n",
            "This is a book.\n"
          ]
        }
      ]
    },
    {
      "cell_type": "markdown",
      "id": "aa6ad4bb-1c4c-4765-b1e0-98068f7c89b8",
      "metadata": {
        "id": "aa6ad4bb-1c4c-4765-b1e0-98068f7c89b8"
      },
      "source": [
        "Q8:\n",
        "\n",
        "Define a class named Student that has the following:\n",
        "\n",
        "Attributes: name, grade, and age.\n",
        "\n",
        "A method introduce() that prints:\n",
        "\n",
        "\"My name is {name}, I am {age} years old.\"\n",
        "\n",
        "A method show_grade() that prints:\n",
        "\n",
        "\"My grade is {grade}.\"\n",
        "\n",
        "Create an object of the Student class with sample data (e.g., \"Alice\", \"A\", 16), and call both methods on the object.\n",
        "\n",
        "Expected Output:\n",
        "\n",
        "My name is Alice, I am 16 years old.\n",
        "\n",
        "My grade is A.\n"
      ]
    },
    {
      "cell_type": "code",
      "source": [
        "class Student:\n",
        "    def __init__(self, name, grade, age):\n",
        "        self.name = name\n",
        "        self.grade = grade\n",
        "        self.age = age\n",
        "\n",
        "    def introduce(self):\n",
        "        print(f\"My name is {self.name}, I am {self.age} years old.\")\n",
        "\n",
        "    def show_grade(self):\n",
        "        print(f\"My grade is {self.grade}.\")\n",
        "\n",
        "student1 = Student(\"Alice\", \"A\", 16)\n",
        "student1.introduce()\n",
        "student1.show_grade()\n"
      ],
      "metadata": {
        "id": "Ki_9mYslBu8M",
        "outputId": "479f59e2-4270-4ec7-9a74-85167f0e88b2",
        "colab": {
          "base_uri": "https://localhost:8080/"
        }
      },
      "id": "Ki_9mYslBu8M",
      "execution_count": 8,
      "outputs": [
        {
          "output_type": "stream",
          "name": "stdout",
          "text": [
            "My name is Alice, I am 16 years old.\n",
            "My grade is A.\n"
          ]
        }
      ]
    },
    {
      "cell_type": "markdown",
      "id": "525dd92f-d478-42fe-b48f-705262d24ee3",
      "metadata": {
        "id": "525dd92f-d478-42fe-b48f-705262d24ee3"
      },
      "source": [
        "Q9:\n",
        "\n",
        "Define a class named Light with two methods:\n",
        "\n",
        "turn_on() — prints: \"The light is now ON.\"\n",
        "\n",
        "check_status() — prints: \"The light is bright and working.\"\n",
        "\n",
        "Create an object of the Light class and call both methods.\n",
        "\n",
        "Expected Output:\n",
        "\n",
        "The light is now ON.\n",
        "\n",
        "The light is bright and working."
      ]
    },
    {
      "cell_type": "code",
      "source": [
        "class Light:\n",
        "    def turn_on(self):\n",
        "        print(\"The light is now ON.\")\n",
        "\n",
        "    def check_status(self):\n",
        "        print(\"The light is bright and working.\")\n",
        "\n",
        "lamp = Light()\n",
        "lamp.turn_on()\n",
        "lamp.check_status()\n"
      ],
      "metadata": {
        "id": "H44TaOQkB7xJ",
        "outputId": "f23d4994-e433-4355-c466-99eef1eeaa0e",
        "colab": {
          "base_uri": "https://localhost:8080/"
        }
      },
      "id": "H44TaOQkB7xJ",
      "execution_count": 9,
      "outputs": [
        {
          "output_type": "stream",
          "name": "stdout",
          "text": [
            "The light is now ON.\n",
            "The light is bright and working.\n"
          ]
        }
      ]
    },
    {
      "cell_type": "markdown",
      "id": "229582cf-8c57-44e9-89e5-ab363c727f0d",
      "metadata": {
        "id": "229582cf-8c57-44e9-89e5-ab363c727f0d"
      },
      "source": [
        "Q10:\n",
        "\n",
        "available_slots = [101, 102, 103, 104, 105]\n",
        "\n",
        "reserved =  [106, 107, 108, 109, 110]\n",
        "\n",
        "You manage a parking lot with two lists:\n",
        "\n",
        "available_slots — parking slots that are free and can be reserved.\n",
        "\n",
        "reserved — parking slots that are already taken.\n",
        "\n",
        "Write a program that:\n",
        "\n",
        "Asks the user to enter a parking slot number they want to reserve.\n",
        "\n",
        "Checks the slot number:\n",
        "\n",
        "If the slot is in available_slots, confirm the reservation by printing:\n",
        "\n",
        "\"Slot {slot} is reserved for you.\"\n",
        "\n",
        "If the slot is in reserved, print:\n",
        "\n",
        "\"Slot {slot} is already reserved by someone else.\"\n",
        "\n",
        "If the slot is not in either list, print:\n",
        "\n",
        "\"Slot {slot} does not exist.\"\n",
        "\n",
        "Handles invalid input (non-integer) with an error message:\n",
        "\n",
        "\"Invalid input. Please enter a valid slot number.\"\n",
        "\n",
        "Expected Output:\n",
        "\n",
        "- Enter the parking slot number you want to reserve: 103\n",
        "\n",
        "    Slot 103 is reserved for you.\n",
        "\n",
        "- Enter the parking slot number you want to reserve: 107\n",
        "\n",
        "    Slot 107 is already reserved by someone else.\n",
        "\n",
        "- Enter the parking slot number you want to reserve: 999\n",
        "\n",
        "    Slot 999 does not exist.\n",
        "\n",
        "- Enter the parking slot number you want to reserve: abc\n",
        "\n",
        "  Invalid input. Please enter a valid slot number.\n"
      ]
    },
    {
      "cell_type": "code",
      "execution_count": 11,
      "id": "a99e6173-631a-4c7e-ad31-04cba55339cf",
      "metadata": {
        "id": "a99e6173-631a-4c7e-ad31-04cba55339cf",
        "outputId": "38ceda64-ce11-43fa-a25e-273b599b58a2",
        "colab": {
          "base_uri": "https://localhost:8080/"
        }
      },
      "outputs": [
        {
          "output_type": "stream",
          "name": "stdout",
          "text": [
            "Enter the parking slot number you want to reserve: 103\n",
            "Slot 103 is reserved for you.\n"
          ]
        }
      ],
      "source": [
        "available_slots = [101, 102, 103, 104, 105]\n",
        "reserved = [106, 107, 108, 109, 110]\n",
        "\n",
        "try:\n",
        "    slot = int(input(\"Enter the parking slot number you want to reserve: \"))\n",
        "    if slot in available_slots:\n",
        "        print(f\"Slot {slot} is reserved for you.\")\n",
        "    elif slot in reserved:\n",
        "        print(f\"Slot {slot} is already reserved by someone else.\")\n",
        "    else:\n",
        "        print(f\"Slot {slot} does not exist.\")\n",
        "except ValueError:\n",
        "    print(\"Invalid input. Please enter a valid slot number.\")\n"
      ]
    }
  ],
  "metadata": {
    "kernelspec": {
      "display_name": "Python 3 (ipykernel)",
      "language": "python",
      "name": "python3"
    },
    "language_info": {
      "codemirror_mode": {
        "name": "ipython",
        "version": 3
      },
      "file_extension": ".py",
      "mimetype": "text/x-python",
      "name": "python",
      "nbconvert_exporter": "python",
      "pygments_lexer": "ipython3",
      "version": "3.12.7"
    },
    "colab": {
      "provenance": []
    }
  },
  "nbformat": 4,
  "nbformat_minor": 5
}