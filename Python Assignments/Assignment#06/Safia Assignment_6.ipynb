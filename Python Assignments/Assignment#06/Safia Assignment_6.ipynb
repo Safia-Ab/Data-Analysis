{
  "cells": [
    {
      "cell_type": "markdown",
      "id": "7e777340-fcd5-4c13-9ae0-e80ade2b8a3a",
      "metadata": {
        "id": "7e777340-fcd5-4c13-9ae0-e80ade2b8a3a"
      },
      "source": [
        "Q1. Write a Python program that prints the multiplication table for a given number (between 1 and 10) using a for loop.\n",
        "\n",
        "Hint:\n",
        "\n",
        "Ask the user for a number between 1 and 10 .\n",
        "Use a for loop to iterate through the numbers from 1 to 10.\n",
        "For each iteration, calculate the product of the given number and the current number in the loop.\n",
        "Print the result in a readable format (e.g., 5 x 1 = 5).\n",
        "Ensure the program works correctly for any number between 1 and 10.\n",
        "Output Hint:\n",
        "\n",
        "- 4 x 1 = 4\n",
        "- 4 x 2 = 8\n",
        "- 4 x 3 = 12\n",
        "- 4 x 4 = 16\n",
        "- 4 x 5 = 20\n",
        "- 4 x 6 = 24\n",
        "- 4 x 7 = 28\n",
        "- 4 x 8 = 32\n",
        "- 4 x 9 = 36\n",
        "- 4 x 10 = 40"
      ]
    },
    {
      "cell_type": "code",
      "source": [
        "# Ask user for a number\n",
        "num = int(input(\"Enter a number between 1 and 10: \"))\n",
        "\n",
        "# For loop runs from 1 to 10\n",
        "for i in range(1, 11):\n",
        "    print(f\"{num} x {i} = {num * i}\")\n"
      ],
      "metadata": {
        "id": "TrvkHeD0v-h7",
        "outputId": "e879b101-6124-4d42-ec34-271e70932866",
        "colab": {
          "base_uri": "https://localhost:8080/"
        }
      },
      "id": "TrvkHeD0v-h7",
      "execution_count": 1,
      "outputs": [
        {
          "output_type": "stream",
          "name": "stdout",
          "text": [
            "Enter a number between 1 and 10: 9\n",
            "9 x 1 = 9\n",
            "9 x 2 = 18\n",
            "9 x 3 = 27\n",
            "9 x 4 = 36\n",
            "9 x 5 = 45\n",
            "9 x 6 = 54\n",
            "9 x 7 = 63\n",
            "9 x 8 = 72\n",
            "9 x 9 = 81\n",
            "9 x 10 = 90\n"
          ]
        }
      ]
    },
    {
      "cell_type": "markdown",
      "id": "93c6d6ba-b4ef-4284-a0e9-9db6eaf2a2cf",
      "metadata": {
        "id": "93c6d6ba-b4ef-4284-a0e9-9db6eaf2a2cf"
      },
      "source": [
        "Q2. Stop sending emails after 3 users (Using for loop and break)\n",
        "\n",
        "users = [\"Ali\", \"Sara\", \"John\", \"Zara\", \"Mike\"]\n",
        "\n",
        "Output:\n",
        "\n",
        "Email sent to Ali\n",
        "\n",
        "Email sent to Sara\n",
        "\n",
        "Email sent to John\n",
        "\n",
        "Limit reached. Stop sending emails."
      ]
    },
    {
      "cell_type": "code",
      "source": [
        "users = [\"Ali\", \"Sara\", \"John\", \"Zara\", \"Mike\"]\n",
        "\n",
        "for i, user in enumerate(users):\n",
        "    if i == 3:  # Stop after 3 users\n",
        "        print(\"Limit reached. Stop sending emails.\")\n",
        "        break\n",
        "    print(f\"Email sent to {user}\")\n"
      ],
      "metadata": {
        "id": "kkDQIeo7w-g1",
        "outputId": "e70d3934-5255-41b5-d79a-87767f627b17",
        "colab": {
          "base_uri": "https://localhost:8080/"
        }
      },
      "id": "kkDQIeo7w-g1",
      "execution_count": 2,
      "outputs": [
        {
          "output_type": "stream",
          "name": "stdout",
          "text": [
            "Email sent to Ali\n",
            "Email sent to Sara\n",
            "Email sent to John\n",
            "Limit reached. Stop sending emails.\n"
          ]
        }
      ]
    },
    {
      "cell_type": "markdown",
      "id": "fa38e056-f606-41d9-8748-2209cb4eaad7",
      "metadata": {
        "id": "fa38e056-f606-41d9-8748-2209cb4eaad7"
      },
      "source": [
        "Q3. Stop monitoring temperature if critical temperature reached (Using for loop and break)\n",
        "\n",
        "temps = [22, 25, 30, 45, 28]\n",
        "critical = 40\n",
        "\n",
        "Ouput:\n",
        "\n",
        "Temperature: 22\n",
        "\n",
        "Temperature: 25\n",
        "\n",
        "Temperature: 30\n",
        "\n",
        "Critical temperature reached! Stop monitoring."
      ]
    },
    {
      "cell_type": "code",
      "source": [
        "temps = [22, 25, 30, 45, 28]\n",
        "critical = 40\n",
        "\n",
        "for t in temps:\n",
        "    if t >= critical:\n",
        "        print(\"Critical temperature reached! Stop monitoring.\")\n",
        "        break\n",
        "    print(f\"Temperature: {t}\")\n"
      ],
      "metadata": {
        "id": "5m4GFqFFxGv1",
        "outputId": "1cacfcc7-2471-4d27-b1c7-8b6232c99bd9",
        "colab": {
          "base_uri": "https://localhost:8080/"
        }
      },
      "id": "5m4GFqFFxGv1",
      "execution_count": 3,
      "outputs": [
        {
          "output_type": "stream",
          "name": "stdout",
          "text": [
            "Temperature: 22\n",
            "Temperature: 25\n",
            "Temperature: 30\n",
            "Critical temperature reached! Stop monitoring.\n"
          ]
        }
      ]
    },
    {
      "cell_type": "markdown",
      "id": "7f5bbc99-28e7-4866-b306-58221f72076c",
      "metadata": {
        "id": "7f5bbc99-28e7-4866-b306-58221f72076c"
      },
      "source": [
        "Q4. Calculate total price of items in a shopping cart (Using For loop)\n",
        "\n",
        "cart = [100, 250, 50, 300]\n",
        "\n",
        "Output:\n",
        "\n",
        "Total Price: 700"
      ]
    },
    {
      "cell_type": "code",
      "source": [
        "cart = [100, 250, 50, 300]\n",
        "total = 0\n",
        "\n",
        "for price in cart:\n",
        "    total += price  # Adding each price to total\n",
        "\n",
        "print(\"Total Price:\", total)\n"
      ],
      "metadata": {
        "id": "p0ZlsWwmxNsC",
        "outputId": "dad8806d-ad23-4e14-fb72-c6fe5b62b3ef",
        "colab": {
          "base_uri": "https://localhost:8080/"
        }
      },
      "id": "p0ZlsWwmxNsC",
      "execution_count": 4,
      "outputs": [
        {
          "output_type": "stream",
          "name": "stdout",
          "text": [
            "Total Price: 700\n"
          ]
        }
      ]
    },
    {
      "cell_type": "markdown",
      "id": "d01d8825-6b0a-44f5-962f-f805700a8e08",
      "metadata": {
        "id": "d01d8825-6b0a-44f5-962f-f805700a8e08"
      },
      "source": [
        "Q5. Skip customers with unpaid bills (Using For loop and continue)\n",
        "\n",
        "customers = [\n",
        "    {\"name\": \"Ali\", \"paid\": True},\n",
        "    \n",
        "    {\"name\": \"Sara\", \"paid\": False},\n",
        "    \n",
        "    {\"name\": \"John\", \"paid\": True}\n",
        "]\n",
        "\n",
        "\n",
        "Output:\n",
        "\n",
        "Access granted to: Ali\n",
        "\n",
        "Access granted to: John\n"
      ]
    },
    {
      "cell_type": "code",
      "source": [
        "customers = [\n",
        "    {\"name\": \"Ali\", \"paid\": True},\n",
        "    {\"name\": \"Sara\", \"paid\": False},\n",
        "    {\"name\": \"John\", \"paid\": True}\n",
        "]\n",
        "\n",
        "for c in customers:\n",
        "    if not c[\"paid\"]:  # If bill is unpaid, skip\n",
        "        continue\n",
        "    print(f\"Access granted to: {c['name']}\")\n"
      ],
      "metadata": {
        "id": "HFpXm7DuxT4c",
        "outputId": "aa5e868a-5f71-4eac-fd4b-f64c8654013e",
        "colab": {
          "base_uri": "https://localhost:8080/"
        }
      },
      "id": "HFpXm7DuxT4c",
      "execution_count": 5,
      "outputs": [
        {
          "output_type": "stream",
          "name": "stdout",
          "text": [
            "Access granted to: Ali\n",
            "Access granted to: John\n"
          ]
        }
      ]
    },
    {
      "cell_type": "markdown",
      "id": "f6cfe812-c319-40e5-ac17-cef6e72488dd",
      "metadata": {
        "id": "f6cfe812-c319-40e5-ac17-cef6e72488dd"
      },
      "source": [
        "Q6. Send personalized emails to a list of users (Using for loop)\n",
        "\n",
        "users = [\"Ali\", \"Sara\", \"John\"]\n",
        "\n",
        "Output:\n",
        "\n",
        "- Hello Ali, your subscription is active!\n",
        "- Hello Sara, your subscription is active!\n",
        "- Hello John, your subscription is active!\n"
      ]
    },
    {
      "cell_type": "code",
      "source": [
        "users = [\"Ali\", \"Sara\", \"John\"]\n",
        "\n",
        "for user in users:\n",
        "    print(f\"Hello {user}, your subscription is active!\")\n"
      ],
      "metadata": {
        "id": "1FB0l5PCxbV6",
        "outputId": "92622ce4-4935-45c4-9929-3caee882176b",
        "colab": {
          "base_uri": "https://localhost:8080/"
        }
      },
      "id": "1FB0l5PCxbV6",
      "execution_count": 6,
      "outputs": [
        {
          "output_type": "stream",
          "name": "stdout",
          "text": [
            "Hello Ali, your subscription is active!\n",
            "Hello Sara, your subscription is active!\n",
            "Hello John, your subscription is active!\n"
          ]
        }
      ]
    },
    {
      "cell_type": "markdown",
      "id": "8ac2616e-f0fb-433f-a1c5-0adf73e50429",
      "metadata": {
        "id": "8ac2616e-f0fb-433f-a1c5-0adf73e50429"
      },
      "source": [
        "Q7. Extract domain names from email list (Using for loop)\n",
        "\n",
        "emails = [\"ali@gmail.com\", \"sara@yahoo.com\", \"john@hotmail.com\"]\n",
        "\n",
        "Output:\n",
        "\n",
        "domains: ['gmail.com', 'yahoo.com', 'hotmail.com']\n"
      ]
    },
    {
      "cell_type": "code",
      "source": [
        "emails = [\"ali@gmail.com\", \"sara@yahoo.com\", \"john@hotmail.com\"]\n",
        "domains = []\n",
        "\n",
        "for email in emails:\n",
        "    domain = email.split(\"@\")[1]  # Splitting email at '@'\n",
        "    domains.append(domain)\n",
        "\n",
        "print(\"domains:\", domains)\n"
      ],
      "metadata": {
        "id": "lcfYgzOxxips",
        "outputId": "84c94571-2206-4ec2-de60-5ef591a194fa",
        "colab": {
          "base_uri": "https://localhost:8080/"
        }
      },
      "id": "lcfYgzOxxips",
      "execution_count": 7,
      "outputs": [
        {
          "output_type": "stream",
          "name": "stdout",
          "text": [
            "domains: ['gmail.com', 'yahoo.com', 'hotmail.com']\n"
          ]
        }
      ]
    },
    {
      "cell_type": "markdown",
      "id": "bc118672-58b5-44e3-8895-0685921efdda",
      "metadata": {
        "id": "bc118672-58b5-44e3-8895-0685921efdda"
      },
      "source": [
        "Q8. Print only overdue tasks (Using for loop)\n",
        "\n",
        "tasks = [\n",
        "    {\"task\": \"Pay bills\", \"status\": \"done\"},\n",
        "    \n",
        "    {\"task\": \"Submit report\", \"status\": \"pending\"},\n",
        "    \n",
        "    {\"task\": \"Clean house\", \"status\": \"pending\"}\n",
        "]\n",
        "\n",
        "\n",
        "Ouput:\n",
        "\n",
        "Overdue: Submit report\n",
        "\n",
        "Overdue: Clean house"
      ]
    },
    {
      "cell_type": "code",
      "source": [
        "tasks = [\n",
        "    {\"task\": \"Pay bills\", \"status\": \"done\"},\n",
        "    {\"task\": \"Submit report\", \"status\": \"pending\"},\n",
        "    {\"task\": \"Clean house\", \"status\": \"pending\"}\n",
        "]\n",
        "\n",
        "for t in tasks:\n",
        "    if t[\"status\"] == \"pending\":  # Pending means overdue\n",
        "        print(f\"Overdue: {t['task']}\")\n"
      ],
      "metadata": {
        "id": "Nn0b7t0oxv72",
        "outputId": "f3020ff8-3f55-46a6-c182-f186315ff52e",
        "colab": {
          "base_uri": "https://localhost:8080/"
        }
      },
      "id": "Nn0b7t0oxv72",
      "execution_count": 8,
      "outputs": [
        {
          "output_type": "stream",
          "name": "stdout",
          "text": [
            "Overdue: Submit report\n",
            "Overdue: Clean house\n"
          ]
        }
      ]
    },
    {
      "cell_type": "markdown",
      "id": "c3d3986b-d13f-4afd-829d-b7b1a6f8a526",
      "metadata": {
        "id": "c3d3986b-d13f-4afd-829d-b7b1a6f8a526"
      },
      "source": [
        "Q9. Extract names of employees with salary above 50,000\n",
        "\n",
        "employees = [\n",
        "    {\"name\": \"Ali\", \"salary\": 60000},\n",
        "    \n",
        "    {\"name\": \"Sara\", \"salary\": 45000},\n",
        "    \n",
        "    {\"name\": \"John\", \"salary\": 70000}\n",
        "]\n",
        "\n",
        "\n",
        "Output:\n",
        "\n",
        "Ali earns above 50,000\n",
        "\n",
        "John earns above 50,000"
      ]
    },
    {
      "cell_type": "code",
      "source": [
        "employees = [\n",
        "    {\"name\": \"Ali\", \"salary\": 60000},\n",
        "    {\"name\": \"Sara\", \"salary\": 45000},\n",
        "    {\"name\": \"John\", \"salary\": 70000}\n",
        "]\n",
        "\n",
        "for e in employees:\n",
        "    if e[\"salary\"] > 50000:\n",
        "        print(f\"{e['name']} earns above 50,000\")\n"
      ],
      "metadata": {
        "id": "m-z80bXex_3a",
        "outputId": "380f9088-4e37-4afa-8512-e3cf739f802d",
        "colab": {
          "base_uri": "https://localhost:8080/"
        }
      },
      "id": "m-z80bXex_3a",
      "execution_count": 9,
      "outputs": [
        {
          "output_type": "stream",
          "name": "stdout",
          "text": [
            "Ali earns above 50,000\n",
            "John earns above 50,000\n"
          ]
        }
      ]
    },
    {
      "cell_type": "markdown",
      "id": "f1db4dfb-ea09-4b1b-9383-28d7a5253f06",
      "metadata": {
        "id": "f1db4dfb-ea09-4b1b-9383-28d7a5253f06"
      },
      "source": [
        "Q10. Skip weekends while printing workdays (Using for loop and continue)\n",
        "\n",
        "days = [\"Monday\", \"Tuesday\", \"Wednesday\", \"Thursday\", \"Friday\", \"Saturday\", \"Sunday\"]\n",
        "\n",
        "Output:\n",
        "\n",
        "Workday: Monday\n",
        "\n",
        "Workday: Tuesday\n",
        "\n",
        "Workday: Wednesday\n",
        "\n",
        "Workday: Thursday\n",
        "\n",
        "Workday: Friday\n"
      ]
    },
    {
      "cell_type": "code",
      "execution_count": 10,
      "id": "3909f284-36f9-401d-95b9-83d2a1b65f71",
      "metadata": {
        "id": "3909f284-36f9-401d-95b9-83d2a1b65f71",
        "outputId": "30810b17-c1ca-41fe-85c4-26f470ac6394",
        "colab": {
          "base_uri": "https://localhost:8080/"
        }
      },
      "outputs": [
        {
          "output_type": "stream",
          "name": "stdout",
          "text": [
            "Workday: Monday\n",
            "Workday: Tuesday\n",
            "Workday: Wednesday\n",
            "Workday: Thursday\n",
            "Workday: Friday\n"
          ]
        }
      ],
      "source": [
        "days = [\"Monday\", \"Tuesday\", \"Wednesday\", \"Thursday\", \"Friday\", \"Saturday\", \"Sunday\"]\n",
        "\n",
        "for d in days:\n",
        "    if d in [\"Saturday\", \"Sunday\"]:  # Skip weekends\n",
        "        continue\n",
        "    print(f\"Workday: {d}\")\n"
      ]
    }
  ],
  "metadata": {
    "kernelspec": {
      "display_name": "Python 3 (ipykernel)",
      "language": "python",
      "name": "python3"
    },
    "language_info": {
      "codemirror_mode": {
        "name": "ipython",
        "version": 3
      },
      "file_extension": ".py",
      "mimetype": "text/x-python",
      "name": "python",
      "nbconvert_exporter": "python",
      "pygments_lexer": "ipython3",
      "version": "3.12.7"
    },
    "colab": {
      "provenance": []
    }
  },
  "nbformat": 4,
  "nbformat_minor": 5
}